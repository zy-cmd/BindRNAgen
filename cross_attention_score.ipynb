{
 "cells": [
  {
   "cell_type": "code",
   "execution_count": 2,
   "id": "3c9083b6",
   "metadata": {},
   "outputs": [
    {
     "name": "stdout",
     "output_type": "stream",
     "text": [
      "Loading model from /data/yzhou/rna_diffusion/checkpoints_100/epoch_100_model_test.pt\n",
      "Instantiating unet\n"
     ]
    }
   ],
   "source": [
    "\n",
    "from unet import UNet\n",
    "from diffusion import Diffusion\n",
    "import torch\n",
    "import os\n",
    "import numpy as np\n",
    "\n",
    "os.environ[\"CUDA_VISIBLE_DEVICES\"] = \"6\"\n",
    "model_dir_name = \"/data/yzhou/rna_diffusion/checkpoints_100\"\n",
    "model_path = os.path.join(model_dir_name, \"epoch_100_model_test.pt\")\n",
    "print(\"Loading model from\", model_path)\n",
    "print(\"Instantiating unet\")\n"
   ]
  },
  {
   "cell_type": "code",
   "execution_count": 3,
   "id": "6d568e29",
   "metadata": {},
   "outputs": [],
   "source": [
    "unet = UNet(\n",
    "    dim=100,\n",
    "    channels=1,\n",
    "    dim_mults=(1, 2, 4),\n",
    "    resnet_block_groups=4,\n",
    ")"
   ]
  },
  {
   "cell_type": "code",
   "execution_count": 4,
   "id": "4aec24c4",
   "metadata": {},
   "outputs": [
    {
     "name": "stdout",
     "output_type": "stream",
     "text": [
      "Instantiating diffusion class\n"
     ]
    }
   ],
   "source": [
    "print(\"Instantiating diffusion class\")\n"
   ]
  },
  {
   "cell_type": "code",
   "execution_count": 5,
   "id": "35e996fa",
   "metadata": {},
   "outputs": [],
   "source": [
    "diffusion = Diffusion(\n",
    "    unet,\n",
    "    timesteps=50,\n",
    ")"
   ]
  },
  {
   "cell_type": "code",
   "execution_count": null,
   "id": "f5d2070b",
   "metadata": {},
   "outputs": [
    {
     "ename": "RuntimeError",
     "evalue": "Error(s) in loading state_dict for Diffusion:\n\tsize mismatch for betas: copying a param with shape torch.Size([100]) from checkpoint, the shape in current model is torch.Size([50]).\n\tsize mismatch for alphas_cumprod: copying a param with shape torch.Size([100]) from checkpoint, the shape in current model is torch.Size([50]).\n\tsize mismatch for alphas_cumprod_prev: copying a param with shape torch.Size([100]) from checkpoint, the shape in current model is torch.Size([50]).\n\tsize mismatch for sqrt_recip_alphas: copying a param with shape torch.Size([100]) from checkpoint, the shape in current model is torch.Size([50]).\n\tsize mismatch for sqrt_alphas_cumprod: copying a param with shape torch.Size([100]) from checkpoint, the shape in current model is torch.Size([50]).\n\tsize mismatch for sqrt_one_minus_alphas_cumprod: copying a param with shape torch.Size([100]) from checkpoint, the shape in current model is torch.Size([50]).\n\tsize mismatch for posterior_variance: copying a param with shape torch.Size([100]) from checkpoint, the shape in current model is torch.Size([50]).",
     "output_type": "error",
     "traceback": [
      "\u001b[31m---------------------------------------------------------------------------\u001b[39m",
      "\u001b[31mRuntimeError\u001b[39m                              Traceback (most recent call last)",
      "\u001b[36mCell\u001b[39m\u001b[36m \u001b[39m\u001b[32mIn[6]\u001b[39m\u001b[32m, line 2\u001b[39m\n\u001b[32m      1\u001b[39m checkpoint_dict = torch.load(model_path)\n\u001b[32m----> \u001b[39m\u001b[32m2\u001b[39m \u001b[43mdiffusion\u001b[49m\u001b[43m.\u001b[49m\u001b[43mload_state_dict\u001b[49m\u001b[43m(\u001b[49m\u001b[43mcheckpoint_dict\u001b[49m\u001b[43m[\u001b[49m\u001b[33;43m\"\u001b[39;49m\u001b[33;43mmodel\u001b[39;49m\u001b[33;43m\"\u001b[39;49m\u001b[43m]\u001b[49m\u001b[43m)\u001b[49m\n",
      "\u001b[36mFile \u001b[39m\u001b[32m~/software/miniconda3/envs/yzhou_rnadiffusion/lib/python3.13/site-packages/torch/nn/modules/module.py:2581\u001b[39m, in \u001b[36mModule.load_state_dict\u001b[39m\u001b[34m(self, state_dict, strict, assign)\u001b[39m\n\u001b[32m   2573\u001b[39m         error_msgs.insert(\n\u001b[32m   2574\u001b[39m             \u001b[32m0\u001b[39m,\n\u001b[32m   2575\u001b[39m             \u001b[33m\"\u001b[39m\u001b[33mMissing key(s) in state_dict: \u001b[39m\u001b[38;5;132;01m{}\u001b[39;00m\u001b[33m. \u001b[39m\u001b[33m\"\u001b[39m.format(\n\u001b[32m   2576\u001b[39m                 \u001b[33m\"\u001b[39m\u001b[33m, \u001b[39m\u001b[33m\"\u001b[39m.join(\u001b[33mf\u001b[39m\u001b[33m'\u001b[39m\u001b[33m\"\u001b[39m\u001b[38;5;132;01m{\u001b[39;00mk\u001b[38;5;132;01m}\u001b[39;00m\u001b[33m\"\u001b[39m\u001b[33m'\u001b[39m \u001b[38;5;28;01mfor\u001b[39;00m k \u001b[38;5;129;01min\u001b[39;00m missing_keys)\n\u001b[32m   2577\u001b[39m             ),\n\u001b[32m   2578\u001b[39m         )\n\u001b[32m   2580\u001b[39m \u001b[38;5;28;01mif\u001b[39;00m \u001b[38;5;28mlen\u001b[39m(error_msgs) > \u001b[32m0\u001b[39m:\n\u001b[32m-> \u001b[39m\u001b[32m2581\u001b[39m     \u001b[38;5;28;01mraise\u001b[39;00m \u001b[38;5;167;01mRuntimeError\u001b[39;00m(\n\u001b[32m   2582\u001b[39m         \u001b[33m\"\u001b[39m\u001b[33mError(s) in loading state_dict for \u001b[39m\u001b[38;5;132;01m{}\u001b[39;00m\u001b[33m:\u001b[39m\u001b[38;5;130;01m\\n\u001b[39;00m\u001b[38;5;130;01m\\t\u001b[39;00m\u001b[38;5;132;01m{}\u001b[39;00m\u001b[33m\"\u001b[39m.format(\n\u001b[32m   2583\u001b[39m             \u001b[38;5;28mself\u001b[39m.\u001b[34m__class__\u001b[39m.\u001b[34m__name__\u001b[39m, \u001b[33m\"\u001b[39m\u001b[38;5;130;01m\\n\u001b[39;00m\u001b[38;5;130;01m\\t\u001b[39;00m\u001b[33m\"\u001b[39m.join(error_msgs)\n\u001b[32m   2584\u001b[39m         )\n\u001b[32m   2585\u001b[39m     )\n\u001b[32m   2586\u001b[39m \u001b[38;5;28;01mreturn\u001b[39;00m _IncompatibleKeys(missing_keys, unexpected_keys)\n",
      "\u001b[31mRuntimeError\u001b[39m: Error(s) in loading state_dict for Diffusion:\n\tsize mismatch for betas: copying a param with shape torch.Size([100]) from checkpoint, the shape in current model is torch.Size([50]).\n\tsize mismatch for alphas_cumprod: copying a param with shape torch.Size([100]) from checkpoint, the shape in current model is torch.Size([50]).\n\tsize mismatch for alphas_cumprod_prev: copying a param with shape torch.Size([100]) from checkpoint, the shape in current model is torch.Size([50]).\n\tsize mismatch for sqrt_recip_alphas: copying a param with shape torch.Size([100]) from checkpoint, the shape in current model is torch.Size([50]).\n\tsize mismatch for sqrt_alphas_cumprod: copying a param with shape torch.Size([100]) from checkpoint, the shape in current model is torch.Size([50]).\n\tsize mismatch for sqrt_one_minus_alphas_cumprod: copying a param with shape torch.Size([100]) from checkpoint, the shape in current model is torch.Size([50]).\n\tsize mismatch for posterior_variance: copying a param with shape torch.Size([100]) from checkpoint, the shape in current model is torch.Size([50])."
     ]
    },
    {
     "ename": "",
     "evalue": "",
     "output_type": "error",
     "traceback": [
      "\u001b[1;31m在当前单元格或上一个单元格中执行代码时 Kernel 崩溃。\n",
      "\u001b[1;31m请查看单元格中的代码，以确定故障的可能原因。\n",
      "\u001b[1;31m单击<a href='https://aka.ms/vscodeJupyterKernelCrash'>此处</a>了解详细信息。\n",
      "\u001b[1;31m有关更多详细信息，请查看 Jupyter <a href='command:jupyter.viewOutput'>log</a>。"
     ]
    }
   ],
   "source": [
    "checkpoint_dict = torch.load(model_path)\n",
    "diffusion.load_state_dict(checkpoint_dict[\"model\"])\n"
   ]
  },
  {
   "cell_type": "code",
   "execution_count": null,
   "id": "dae579c0",
   "metadata": {},
   "outputs": [],
   "source": []
  }
 ],
 "metadata": {
  "kernelspec": {
   "display_name": "yzhou_rnadiffusion",
   "language": "python",
   "name": "python3"
  },
  "language_info": {
   "codemirror_mode": {
    "name": "ipython",
    "version": 3
   },
   "file_extension": ".py",
   "mimetype": "text/x-python",
   "name": "python",
   "nbconvert_exporter": "python",
   "pygments_lexer": "ipython3",
   "version": "3.13.2"
  }
 },
 "nbformat": 4,
 "nbformat_minor": 5
}
